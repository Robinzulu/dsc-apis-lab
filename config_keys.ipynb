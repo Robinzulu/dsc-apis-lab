{
  "nbformat": 4,
  "nbformat_minor": 0,
  "metadata": {
    "colab": {
      "provenance": [],
      "authorship_tag": "ABX9TyOId0gbw8uAgn2yKdxH4FGm",
      "include_colab_link": true
    },
    "kernelspec": {
      "name": "python3",
      "display_name": "Python 3"
    },
    "language_info": {
      "name": "python"
    }
  },
  "cells": [
    {
      "cell_type": "markdown",
      "metadata": {
        "id": "view-in-github",
        "colab_type": "text"
      },
      "source": [
        "<a href=\"https://colab.research.google.com/github/Robinzulu/dsc-apis-lab/blob/master/config_keys.ipynb\" target=\"_parent\"><img src=\"https://colab.research.google.com/assets/colab-badge.svg\" alt=\"Open In Colab\"/></a>"
      ]
    },
    {
      "cell_type": "code",
      "execution_count": null,
      "metadata": {
        "id": "c2rS1DTnb_JY"
      },
      "outputs": [],
      "source": [
        "Yapi_key = 'JhEvPjskVFSPv6kDNrDVRXYyIoi-5f1fmWe7pIO5gKSfy6DdtvU8tLDapB78gdsoC1SevXrYKFicyR0G_L41lbt_ZFJUhbIsNHmElDNzKoUcoGQbW_LDElA5tARBZHYx'\n"
      ]
    }
  ]
}