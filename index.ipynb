{
 "cells": [
  {
   "cell_type": "markdown",
   "metadata": {
    "id": "mBd-WvVAM4uN"
   },
   "source": [
    "# APIs - Cumulative Lab\n",
    "\n",
    "\n",
    "## Introduction \n",
    "\n",
    "We've seen how the Yelp API works and how to create basic visualizations using Folium. It's time to put those skills to work in order to create a working map! Taking things a step further, you'll also independently explore how to perform pagination in order to retrieve a full results set from the Yelp API.\n",
    "\n",
    "## Objectives\n",
    "\n",
    "You will be able to: \n",
    "\n",
    "* Practice using functions to organize your code\n",
    "* Use pagination to retrieve all results from an API query\n",
    "* Practice parsing data returned from an API query\n",
    "* Practice interpreting visualizations of a dataset\n",
    "* Create maps using Folium"
   ]
  },
  {
   "cell_type": "markdown",
   "metadata": {
    "id": "ymKq2HgyM4uQ"
   },
   "source": [
    "## Your Task: Query Yelp for All Businesses in a Category and Analyze the Results\n",
    "\n",
    "![restaurant counter with pizza](https://github.com/Robinzulu/dsc-apis-lab/blob/master/images/restaurant_counter.jpg?raw=1)\n",
    "\n",
    "Photo by <a href=\"https://unsplash.com/@jordanmadrid?utm_source=unsplash&utm_medium=referral&utm_content=creditCopyText\">Jordan Madrid</a> on <a href=\"/s/photos/pizza-restaurant?utm_source=unsplash&utm_medium=referral&utm_content=creditCopyText\">Unsplash</a>"
   ]
  },
  {
   "cell_type": "markdown",
   "metadata": {
    "id": "a10DUf_4M4uQ"
   },
   "source": [
    "### Overview\n",
    "\n",
    "You've now worked with some API calls, but we have yet to see how to retrieve a more complete dataset in a programmatic manner. In this lab, you will write a query of businesses on Yelp, then use *pagination* to retrieve all possible results for that query. Then you will create a summary of your findings, including a Folium map of the geographic locations of those businesses.\n",
    "\n",
    "### Technical Details\n",
    "\n",
    "Returning to the Yelp API, the [documentation](https://www.yelp.com/developers/documentation/v3/business_search) also provides us details regarding the **API limits**. These often include details about the number of requests a user is allowed to make within a specified time limit and the maximum number of results to be returned. In this case, we are told that any request has a **maximum of 50 results per request** and defaults to 20. Furthermore, any search will be limited to a **total of 1000 results**. To retrieve all 1000 of these results, we would have to page through the results piece by piece, retrieving 50 at a time. Processes such as these are often referred to as pagination.\n",
    "\n",
    "Also, be mindful of the **API** ***rate*** **limits**. You can only make **5000 requests per day** and are also can make requests too fast. Start prototyping small before running a loop that could be faulty. You can also use `time.sleep(n)` to add delays. For more details see https://www.yelp.com/developers/documentation/v3/rate_limiting.\n",
    "\n",
    "In this lab, you will define a search and then paginate over the results to retrieve all of the results. You'll then parse these responses as a list of dictionaries (for further exploration) and create a map using Folium to visualize the results geographically.\n",
    "\n",
    "### Requirements\n",
    "\n",
    "#### 1. Make the Initial Request\n",
    "\n",
    "Start by filling in your API key to make the initial request to the business search API. Investigate the structure of the response you get back and start figuring out how you will extract the relevant information.\n",
    "\n",
    "#### 2. Add Pagination\n",
    "\n",
    "Using loops and functions, collect the maximum number of results for your query from the API.\n",
    "\n",
    "#### 3. Perform Exploratory Analysis\n",
    "\n",
    "Interpret visualizations related to the price range, average rating, and number of reviews for all query results.\n",
    "\n",
    "#### 4. Create a Folium Map\n",
    "\n",
    "Using latitude and longitude data, plot the query results on an interactive map."
   ]
  },
  {
   "cell_type": "markdown",
   "metadata": {
    "id": "bSZZbGvtM4uS"
   },
   "source": [
    "## 1. Make the Initial Request\n",
    "\n",
    "### Querying\n",
    "\n",
    "Start by making an initial request to the Yelp API. Your search must include at least 2 parameters: **term** and **location**. For example, you might search for pizza restaurants in NYC. The term and location is up to you but make the request below.\n",
    "\n",
    "Use the `requests` library ([documentation here](https://requests.readthedocs.io/en/master/user/quickstart/#make-a-request)).\n",
    "\n",
    "You'll also need an API key from Yelp. If you haven't done this already, go to the Yelp [Manage App page](https://www.yelp.com/developers/v3/manage_app) and create a new app (after making an account if you haven't already)."
   ]
  },
  {
   "cell_type": "code",
   "execution_count": 1,
   "metadata": {},
   "outputs": [],
   "source": [
    "from config import yapi_key"
   ]
  },
  {
   "cell_type": "code",
   "execution_count": 2,
   "metadata": {
    "colab": {
     "base_uri": "https://localhost:8080/"
    },
    "id": "3shR3bklM4uS",
    "outputId": "80dbd3c5-f142-4184-f22d-8ecb4d76be3f",
    "scrolled": true
   },
   "outputs": [
    {
     "data": {
      "text/plain": [
       "<Response [200]>"
      ]
     },
     "execution_count": 2,
     "metadata": {},
     "output_type": "execute_result"
    }
   ],
   "source": [
    "# Replace None with appropriate code\n",
    "\n",
    "# Import the requests library\n",
    "import requests\n",
    "\n",
    "# Get this from the \"Manage App\" page. Make sure you set them\n",
    "# back to None before pushing this to GitHub, since otherwise\n",
    "# your credentials will be compromised\n",
    "api_key = yapi_key\n",
    "\n",
    "# These can be whatever you want! But the solution uses \"pizza\"\n",
    "# and \"New York NY\" if you want to compare your work directly\n",
    "term = 'pizza'\n",
    "location = 'New York NY'\n",
    "\n",
    "# Set up params for request\n",
    "url = \"https://api.yelp.com/v3/businesses/search\"\n",
    "headers = {\n",
    "    \"Authorization\": \"Bearer {}\".format(api_key)\n",
    "}\n",
    "url_params = {\n",
    "    \"term\": term.replace(\" \", \"+\"),\n",
    "    \"location\": location.replace(\" \", \"+\")\n",
    "}\n",
    "\n",
    "# Make the request using requests.get, passing in\n",
    "# url, headers=headers, and params=url_params\n",
    "response = requests.get(url, headers=headers, params=url_params)\n",
    "\n",
    "# Confirm we got a 200 response\n",
    "response"
   ]
  },
  {
   "cell_type": "code",
   "execution_count": 3,
   "metadata": {
    "colab": {
     "base_uri": "https://localhost:8080/"
    },
    "id": "OrsjPXIQM4uU",
    "outputId": "4a493a50-ad14-4777-cba5-f6f01eeb6357"
   },
   "outputs": [
    {
     "data": {
      "text/plain": [
       "dict_keys(['businesses', 'total', 'region'])"
      ]
     },
     "execution_count": 3,
     "metadata": {},
     "output_type": "execute_result"
    }
   ],
   "source": [
    "# Run this cell without changes\n",
    "\n",
    "# Get the response body in JSON format\n",
    "response_json = response.json()\n",
    "# View the keys\n",
    "response_json.keys()"
   ]
  },
  {
   "cell_type": "markdown",
   "metadata": {
    "id": "KIZRKlaSM4uU"
   },
   "source": [
    "### Extracting Data\n",
    "\n",
    "Now, retrieve the value associated with the `'businesses'` key, and inspect its contents."
   ]
  },
  {
   "cell_type": "code",
   "execution_count": 4,
   "metadata": {
    "colab": {
     "base_uri": "https://localhost:8080/"
    },
    "id": "raMoO88cM4uU",
    "outputId": "439c81f3-16ce-4445-8684-35a8765e1d4e"
   },
   "outputs": [
    {
     "data": {
      "text/plain": [
       "[{'id': 'zj8Lq1T8KIC5zwFief15jg',\n",
       "  'alias': 'prince-street-pizza-new-york-2',\n",
       "  'name': 'Prince Street Pizza',\n",
       "  'image_url': 'https://s3-media4.fl.yelpcdn.com/bphoto/PfI8oV4ct9ZJZNtUhSS8DQ/o.jpg',\n",
       "  'is_closed': False,\n",
       "  'url': 'https://www.yelp.com/biz/prince-street-pizza-new-york-2?adjust_creative=UA18D9WCsRpUuWxoTZ4Hkg&utm_campaign=yelp_api_v3&utm_medium=api_v3_business_search&utm_source=UA18D9WCsRpUuWxoTZ4Hkg',\n",
       "  'review_count': 4847,\n",
       "  'categories': [{'alias': 'pizza', 'title': 'Pizza'},\n",
       "   {'alias': 'italian', 'title': 'Italian'}],\n",
       "  'rating': 4.5,\n",
       "  'coordinates': {'latitude': 40.72308755605564,\n",
       "   'longitude': -73.99453001177575},\n",
       "  'transactions': ['delivery', 'pickup'],\n",
       "  'price': '$',\n",
       "  'location': {'address1': '27 Prince St',\n",
       "   'address2': None,\n",
       "   'address3': '',\n",
       "   'city': 'New York',\n",
       "   'zip_code': '10012',\n",
       "   'country': 'US',\n",
       "   'state': 'NY',\n",
       "   'display_address': ['27 Prince St', 'New York, NY 10012']},\n",
       "  'phone': '+12129664100',\n",
       "  'display_phone': '(212) 966-4100',\n",
       "  'distance': 2209.3116178604555},\n",
       " {'id': 'ysqgdbSrezXgVwER2kQWKA',\n",
       "  'alias': 'julianas-brooklyn-3',\n",
       "  'name': \"Juliana's\",\n",
       "  'image_url': 'https://s3-media2.fl.yelpcdn.com/bphoto/NVoLFle5H-SHNN6piAKIYw/o.jpg',\n",
       "  'is_closed': False,\n",
       "  'url': 'https://www.yelp.com/biz/julianas-brooklyn-3?adjust_creative=UA18D9WCsRpUuWxoTZ4Hkg&utm_campaign=yelp_api_v3&utm_medium=api_v3_business_search&utm_source=UA18D9WCsRpUuWxoTZ4Hkg',\n",
       "  'review_count': 2630,\n",
       "  'categories': [{'alias': 'pizza', 'title': 'Pizza'}],\n",
       "  'rating': 4.5,\n",
       "  'coordinates': {'latitude': 40.70274718768062,\n",
       "   'longitude': -73.99343490196397},\n",
       "  'transactions': ['delivery'],\n",
       "  'price': '$$',\n",
       "  'location': {'address1': '19 Old Fulton St',\n",
       "   'address2': '',\n",
       "   'address3': '',\n",
       "   'city': 'Brooklyn',\n",
       "   'zip_code': '11201',\n",
       "   'country': 'US',\n",
       "   'state': 'NY',\n",
       "   'display_address': ['19 Old Fulton St', 'Brooklyn, NY 11201']},\n",
       "  'phone': '+17185966700',\n",
       "  'display_phone': '(718) 596-6700',\n",
       "  'distance': 1289.8572856708206}]"
      ]
     },
     "execution_count": 4,
     "metadata": {},
     "output_type": "execute_result"
    }
   ],
   "source": [
    "# Replace None with appropriate code\n",
    "\n",
    "# Retrieve the value from response_json\n",
    "businesses = response_json['businesses']\n",
    "\n",
    "# View the first 2 records\n",
    "businesses[:2]"
   ]
  },
  {
   "cell_type": "markdown",
   "metadata": {
    "id": "iH_iijHgM4uV"
   },
   "source": [
    "### Preparing Data\n",
    "\n",
    "Write a function `prepare_data` that takes in a list of dictionaries like `businesses` and returns a copy that has been prepared for analysis:\n",
    "\n",
    "1. The `coordinates` key-value pair has been converted into two separate key-value pairs, `latitude` and `longitude`\n",
    "2. All other key-value pairs except for `name`, `review_count`, `rating`, and `price` have been dropped\n",
    "3. All dictionaries missing one of the relevant keys or containing null values have been dropped\n",
    "\n",
    "In other words, the final keys for each dictionary should be `name`, `review_count`, `rating`, `price`, `latitude`, and `longitude`.\n",
    "\n",
    "Complete the function in the cell below:"
   ]
  },
  {
   "cell_type": "code",
   "execution_count": 5,
   "metadata": {
    "colab": {
     "base_uri": "https://localhost:8080/"
    },
    "id": "CKGymQeJM4uV",
    "outputId": "d2164b60-05aa-452f-c0b9-75c67c1cb055"
   },
   "outputs": [
    {
     "data": {
      "text/plain": [
       "[{'name': 'Prince Street Pizza',\n",
       "  'review_count': 4847,\n",
       "  'rating': 4.5,\n",
       "  'price': '$',\n",
       "  'latitude': 40.72308755605564,\n",
       "  'longitude': -73.99453001177575},\n",
       " {'name': \"Juliana's\",\n",
       "  'review_count': 2630,\n",
       "  'rating': 4.5,\n",
       "  'price': '$$',\n",
       "  'latitude': 40.70274718768062,\n",
       "  'longitude': -73.99343490196397},\n",
       " {'name': 'Rubirosa',\n",
       "  'review_count': 2973,\n",
       "  'rating': 4.5,\n",
       "  'price': '$$',\n",
       "  'latitude': 40.722766,\n",
       "  'longitude': -73.996233},\n",
       " {'name': \"Joe's Pizza\",\n",
       "  'review_count': 2995,\n",
       "  'rating': 4.0,\n",
       "  'price': '$',\n",
       "  'latitude': 40.73060076,\n",
       "  'longitude': -74.00215997},\n",
       " {'name': \"Lombardi's Pizza\",\n",
       "  'review_count': 6558,\n",
       "  'rating': 4.0,\n",
       "  'price': '$$',\n",
       "  'latitude': 40.7215934960083,\n",
       "  'longitude': -73.9955956044561}]"
      ]
     },
     "execution_count": 5,
     "metadata": {},
     "output_type": "execute_result"
    }
   ],
   "source": [
    "# Replace None with appropriate code\n",
    "\n",
    "def prepare_data(data_list):\n",
    "    \"\"\"\n",
    "    This function takes in a list of dictionaries and prepares it\n",
    "    for analysis\n",
    "    \"\"\"\n",
    "    \n",
    "    # Make a new list to hold results\n",
    "    results = []\n",
    "    \n",
    "    for business_data in data_list:\n",
    "    \n",
    "        # Make a new dictionary to hold prepared data for this business\n",
    "        prepared_data = {}\n",
    "        \n",
    "        # Extract name, review_count, rating, and price key-value pairs\n",
    "        # from business_data and add to prepared_data\n",
    "        # If a key is not present in business_data, add it to prepared_data\n",
    "        # with an associated value of None\n",
    "        for key in [\"name\", \"review_count\", \"rating\", \"price\"]:\n",
    "            if key in business_data:\n",
    "                prepared_data[key] = business_data[key]\n",
    "            else:\n",
    "                prepared_data[key] = None\n",
    "    \n",
    "        # Parse and add latitude and longitude columns\n",
    "        if \"coordinates\" in business_data and \"latitude\" in business_data[\"coordinates\"] and \"longitude\" in business_data[\"coordinates\"]:\n",
    "            prepared_data[\"latitude\"] = business_data[\"coordinates\"][\"latitude\"]\n",
    "            prepared_data[\"longitude\"] = business_data[\"coordinates\"][\"longitude\"]\n",
    "        else:\n",
    "            prepared_data[\"latitude\"] = None\n",
    "            prepared_data[\"longitude\"] = None\n",
    "        \n",
    "        # Add to list if all values are present\n",
    "        if all(prepared_data.values()):\n",
    "            results.append(prepared_data)\n",
    "    \n",
    "    return results\n",
    "\n",
    "    \n",
    "# Test out function\n",
    "prepared_businesses = prepare_data(businesses)\n",
    "prepared_businesses[:5]"
   ]
  },
  {
   "cell_type": "markdown",
   "metadata": {
    "id": "Eu42iNzVM4uW"
   },
   "source": [
    "Check that your function created the correct keys:"
   ]
  },
  {
   "cell_type": "code",
   "execution_count": 6,
   "metadata": {
    "id": "dDJOhNj5M4uW"
   },
   "outputs": [],
   "source": [
    "# Run this cell without changes\n",
    "\n",
    "assert sorted(list(prepared_businesses[0].keys())) == ['latitude', 'longitude', 'name', 'price', 'rating', 'review_count']"
   ]
  },
  {
   "cell_type": "markdown",
   "metadata": {
    "id": "tpJKxUIxM4uW"
   },
   "source": [
    "The following code will differ depending on your query, but we expect there to be 20 businesses in the original list, and potentially fewer in the prepared list (if any of them were missing data):"
   ]
  },
  {
   "cell_type": "code",
   "execution_count": 7,
   "metadata": {
    "colab": {
     "base_uri": "https://localhost:8080/"
    },
    "id": "-w1imhlhM4uX",
    "outputId": "42f4bc0f-a231-448b-ca83-e2fe5a979c14"
   },
   "outputs": [
    {
     "name": "stdout",
     "output_type": "stream",
     "text": [
      "Original: 20\n",
      "Prepared: 20\n"
     ]
    }
   ],
   "source": [
    "# Run this cell without changes\n",
    "print(\"Original:\", len(businesses))\n",
    "print(\"Prepared:\", len(prepared_businesses))"
   ]
  },
  {
   "cell_type": "markdown",
   "metadata": {
    "id": "ufnjEM9KM4uX"
   },
   "source": [
    "Great! We will reuse this function once we have retrieved the full dataset."
   ]
  },
  {
   "cell_type": "markdown",
   "metadata": {
    "id": "lDgv78zmM4uX"
   },
   "source": [
    "## 2. Add Pagination\n",
    "\n",
    "Now that you are able to extract information from one page of the response, let's figure out how to request as many pages as possible.\n",
    "\n",
    "### Determining the Total\n",
    "\n",
    "Depending on the number of total results for your query, you will either retrieve all of the results, or just the first 1000 (if there are more than 1000 total).\n",
    "\n",
    "We can find the total number of results using the `\"total\"` key:"
   ]
  },
  {
   "cell_type": "code",
   "execution_count": 8,
   "metadata": {
    "colab": {
     "base_uri": "https://localhost:8080/"
    },
    "id": "HmMOALaxM4uX",
    "outputId": "920b6704-2e47-4311-af72-a3b72a58a525"
   },
   "outputs": [
    {
     "data": {
      "text/plain": [
       "16300"
      ]
     },
     "execution_count": 8,
     "metadata": {},
     "output_type": "execute_result"
    }
   ],
   "source": [
    "# Run this cell without changes\n",
    "response_json[\"total\"]"
   ]
  },
  {
   "cell_type": "markdown",
   "metadata": {
    "id": "9y0FIqnHM4uY"
   },
   "source": [
    "(This is specific to the implementation of the Yelp API. Some APIs will just tell you that there are more pages, or will tell you the number of pages total, rather than the total number of results. If you're not sure, always check the documentation.)\n",
    "\n",
    "In the cell below, assign the variable `total` to either the value shown above (if it is less than 1000), or 1000."
   ]
  },
  {
   "cell_type": "code",
   "execution_count": 9,
   "metadata": {
    "colab": {
     "base_uri": "https://localhost:8080/"
    },
    "id": "drN3y5afM4uY",
    "outputId": "30156abb-d325-4064-8938-811e2fbc5ec1"
   },
   "outputs": [
    {
     "data": {
      "text/plain": [
       "1000"
      ]
     },
     "execution_count": 9,
     "metadata": {},
     "output_type": "execute_result"
    }
   ],
   "source": [
    "# Replace None with appropriate code\n",
    "if response_json['total'] < 1000:\n",
    "  total = response_json[\"total\"]\n",
    "else:\n",
    "  total = 1000\n",
    "\n",
    "total"
   ]
  },
  {
   "cell_type": "markdown",
   "metadata": {
    "id": "1ZNMgj_6M4uY"
   },
   "source": [
    "### Calculating the Offsets\n",
    "\n",
    "The documentation states in the parameters section:\n",
    "\n",
    "> **Name**: `limit`, **Type:** int, **Description:** Optional. Number of business results to return. By default, it will return 20. Maximum is 50.\n",
    "\n",
    "> **Name**: `offset`, **Type:** int, **Description:** Optional. Offset the list of returned business results by this amount.\n",
    "\n",
    "So, to get the most results with the fewest API calls we want to set a limit of 50 every time. If, say, we wanted to get 210 total results, that would mean:\n",
    "\n",
    "1. Offset of `0` (first 50 records)\n",
    "2. Offset of `50` (second 50 records)\n",
    "3. Offset of `100` (third 50 records)\n",
    "4. Offset of `150` (fourth 50 records)\n",
    "5. Offset of `200` (final 10 records)\n",
    "\n",
    "In the cell below, create a function `get_offsets` that takes in a total and returns a list of offsets for that total. You can assume that there is a limit of 50 every time.\n",
    "\n",
    "*Hint: you can use `range` ([documentation here](https://docs.python.org/3.3/library/stdtypes.html?highlight=range#range)) to do this in one line of code. Just make the returned result is a list.*"
   ]
  },
  {
   "cell_type": "code",
   "execution_count": 10,
   "metadata": {
    "id": "0CSOFvffM4uY"
   },
   "outputs": [],
   "source": [
    "# Replace None with appropriate code\n",
    "def get_offsets(total):\n",
    "    \"\"\"\n",
    "    Get a list of offsets needed to get all pages\n",
    "    of data up until the total\n",
    "    \"\"\"\n",
    "    offsets = []\n",
    "    num_calls = total // 50\n",
    "    for i in range(num_calls):\n",
    "        offsets.append(i * 50)\n",
    "    if total % 50 != 0:\n",
    "        offsets.append(num_calls * 50)\n",
    "    return offsets"
   ]
  },
  {
   "cell_type": "markdown",
   "metadata": {
    "id": "FHR6XymdM4uZ"
   },
   "source": [
    "Check that your function works below:"
   ]
  },
  {
   "cell_type": "code",
   "execution_count": 11,
   "metadata": {
    "id": "Tdg76uhWM4uZ"
   },
   "outputs": [],
   "source": [
    "# Run this cell without changes\n",
    "\n",
    "assert get_offsets(200) == [0, 50, 100, 150]\n",
    "assert get_offsets(210) == [0, 50, 100, 150, 200]"
   ]
  },
  {
   "cell_type": "markdown",
   "metadata": {
    "id": "_3IFjpBgM4uZ"
   },
   "source": [
    "### Putting It All Together\n",
    "\n",
    "Recall that the following variable has already been declared for you:"
   ]
  },
  {
   "cell_type": "code",
   "execution_count": 12,
   "metadata": {
    "colab": {
     "base_uri": "https://localhost:8080/"
    },
    "id": "TyuiTdXmM4uZ",
    "outputId": "ab260a52-f9f7-4c20-c160-2205cdd838f8"
   },
   "outputs": [
    {
     "data": {
      "text/plain": [
       "{'term': 'pizza', 'location': 'New+York+NY'}"
      ]
     },
     "execution_count": 12,
     "metadata": {},
     "output_type": "execute_result"
    }
   ],
   "source": [
    "# Run this cell without changes\n",
    "url_params"
   ]
  },
  {
   "cell_type": "markdown",
   "metadata": {
    "id": "HsR8o4HxM4uZ"
   },
   "source": [
    "We'll go ahead and also specify that the limit should be 50 every time:"
   ]
  },
  {
   "cell_type": "code",
   "execution_count": 13,
   "metadata": {
    "id": "5oNRE_T5M4ua"
   },
   "outputs": [],
   "source": [
    "# Run this cell without changes\n",
    "url_params[\"limit\"] = 50"
   ]
  },
  {
   "cell_type": "markdown",
   "metadata": {
    "id": "-c7QaQb4M4ua"
   },
   "source": [
    "In order to modify the offset, you'll need to add it to `url_params` with the key `\"offset\"` and whatever value is needed.\n",
    "\n",
    "In the cell below, write code that:\n",
    "\n",
    "* Creates an empty list for the full prepared dataset\n",
    "* Loops over all of the offsets from `get_offsets` and makes an API call each time with the specified offset\n",
    "* Calls `prepare_data` to get a cleaned version of the result of each API call\n",
    "* Extends the full prepared dataset list with each query's prepared dataset"
   ]
  },
  {
   "cell_type": "code",
   "execution_count": 14,
   "metadata": {
    "colab": {
     "base_uri": "https://localhost:8080/"
    },
    "id": "muJk3LsOM4ua",
    "outputId": "f1fdf1d4-a354-4f32-b114-dbaa8c8489fd"
   },
   "outputs": [
    {
     "data": {
      "text/plain": [
       "754"
      ]
     },
     "execution_count": 14,
     "metadata": {},
     "output_type": "execute_result"
    }
   ],
   "source": [
    "# Replace None with appropriate code\n",
    "\n",
    "# Create an empty list for the full prepared dataset\n",
    "full_dataset = []\n",
    "\n",
    "for offset in get_offsets(total):\n",
    "    # Add or update the \"offset\" key-value pair in url_params\n",
    "    url_params[\"offset\"] = offset\n",
    "    \n",
    "    # Make the query and get the response\n",
    "    response = requests.get(url, headers=headers, params=url_params)\n",
    "    \n",
    "    # Get the response body in JSON format\n",
    "    response_json = response.json()\n",
    "    \n",
    "    # Get the list of businesses from the response_json\n",
    "    businesses = response_json['businesses']\n",
    "    \n",
    "    # Call the prepare_data function to get a list of processed data\n",
    "    prepared_businesses = prepare_data(businesses)\n",
    "    \n",
    "    # Extend full_dataset with this list (don't append, or you'll get\n",
    "    # a list of lists instead of a flat list)\n",
    "    full_dataset.extend(prepared_businesses)\n",
    "\n",
    "# Check the length of the full dataset. It will be up to `total`,\n",
    "# potentially less if there were missing values\n",
    "len(full_dataset)"
   ]
  },
  {
   "cell_type": "markdown",
   "metadata": {
    "id": "P4oJOXZGM4ua"
   },
   "source": [
    "This code may take up to a few minutes to run.\n",
    "\n",
    "If you get an error trying to get the response body in JSON format, try adding `time.sleep(1)` right after the `requests.get` line, so your code will sleep for 1 second between each API call."
   ]
  },
  {
   "cell_type": "markdown",
   "metadata": {
    "id": "e-HLs8nEM4ub"
   },
   "source": [
    "## 3. Perform Exploratory Analysis\n",
    "\n",
    "Take the businesses from the previous question and do an initial exploratory analysis. We have provided some plots for you to interpret:"
   ]
  },
  {
   "cell_type": "code",
   "execution_count": 15,
   "metadata": {
    "colab": {
     "base_uri": "https://localhost:8080/",
     "height": 462
    },
    "id": "ltDTsYZfM4ub",
    "outputId": "40161039-9cfc-4ebe-800b-6d908ac28a40"
   },
   "outputs": [
    {
     "data": {
      "image/png": "[encoded data removed]",
      "text/plain": [
       "<Figure size 1152x360 with 3 Axes>"
      ]
     },
     "metadata": {
      "needs_background": "light"
     },
     "output_type": "display_data"
    }
   ],
   "source": [
    "# Run this cell without changes\n",
    "from collections import Counter\n",
    "import matplotlib.pyplot as plt\n",
    "%matplotlib inline\n",
    "\n",
    "fig, (ax1, ax2, ax3) = plt.subplots(ncols=3, figsize=(16, 5))\n",
    "\n",
    "# Plot distribution of number of reviews\n",
    "all_review_counts = [x[\"review_count\"] for x in full_dataset]\n",
    "ax1.hist(all_review_counts)\n",
    "ax1.set_title(\"Review Count Distribution\")\n",
    "ax1.set_xlabel(\"Number of Reviews\")\n",
    "ax1.set_ylabel(\"Number of Businesses\")\n",
    "\n",
    "# Plot rating distribution\n",
    "all_ratings = [x[\"rating\"] for x in full_dataset]\n",
    "rating_counter = Counter(all_ratings)\n",
    "rating_keys = sorted(rating_counter.keys())\n",
    "ax2.bar(rating_keys, [rating_counter[key] for key in rating_keys])\n",
    "ax2.set_title(\"Rating Distribution\")\n",
    "ax2.set_xlabel(\"Rating\")\n",
    "ax2.set_ylabel(\"Number of Businesses\")\n",
    "\n",
    "# Plot price distribution\n",
    "all_prices = [x[\"price\"].replace(\"$\", r\"\\$\") for x in full_dataset]\n",
    "price_counter = Counter(all_prices)\n",
    "price_keys = sorted(price_counter.keys())\n",
    "ax3.bar(price_keys, [price_counter[key] for key in price_keys])\n",
    "ax3.set_title(\"Price Distribution\")\n",
    "ax3.set_xlabel(\"Price Category\")\n",
    "ax3.set_ylabel(\"Number of Businesses\");"
   ]
  },
  {
   "cell_type": "markdown",
   "metadata": {
    "id": "Ajt8dp1xM4ub"
   },
   "source": [
    "Describe the distributions displayed above and interpret them in the context of your query. (Your answer may differ from the solution branch depending on your query.)"
   ]
  },
  {
   "cell_type": "code",
   "execution_count": 16,
   "metadata": {
    "id": "SVgcNiT0M4uc"
   },
   "outputs": [
    {
     "data": {
      "text/plain": [
       "'\\nThe plots show the distribution of review counts, ratings, and price categories across the businesses in the dataset.\\n\\nThe first plot shows that most of the businesses have fewer than 100 reviews, with a long tail of businesses with higher review counts.\\n\\nThe second plot shows that the majority of businesses have ratings between 3.5 and 4.5 stars, \\nwith very few businesses at the extremes (below 2 or above 5 stars).\\n\\nThe third plot shows that most of the businesses fall into the two middle price categories, with fewer in the cheapest and most expensive categories. \\n'"
      ]
     },
     "execution_count": 16,
     "metadata": {},
     "output_type": "execute_result"
    }
   ],
   "source": [
    "# Replace None with appropriate text\n",
    "\"\"\"\n",
    "The plots show the distribution of review counts, ratings, and price categories across the businesses in the dataset.\n",
    "\n",
    "The first plot shows that most of the businesses have fewer than 100 reviews, with a long tail of businesses with higher review counts.\n",
    "\n",
    "The second plot shows that the majority of businesses have ratings between 3.5 and 4.5 stars, \n",
    "with very few businesses at the extremes (below 2 or above 5 stars).\n",
    "\n",
    "The third plot shows that most of the businesses fall into the two middle price categories, with fewer in the cheapest and most expensive categories. \n",
    "\"\"\""
   ]
  },
  {
   "cell_type": "markdown",
   "metadata": {
    "id": "qNLfMCA9M4uc"
   },
   "source": [
    "In the cell below, we also plot the rating distributions by price. In this setup, a price of one dollar sign is \"lower price\" and everything else is \"higher price\"."
   ]
  },
  {
   "cell_type": "code",
   "execution_count": 17,
   "metadata": {
    "colab": {
     "base_uri": "https://localhost:8080/",
     "height": 430
    },
    "id": "iVE_rUKcM4uc",
    "outputId": "a3d5a1df-844b-4c57-8f97-191ca1f950d8"
   },
   "outputs": [
    {
     "data": {
      "image/png": "[encoded data removed]",
      "text/plain": [
       "<Figure size 432x288 with 1 Axes>"
      ]
     },
     "metadata": {
      "needs_background": "light"
     },
     "output_type": "display_data"
    }
   ],
   "source": [
    "# Run this cell without changes\n",
    "\n",
    "higher_price = []\n",
    "lower_price = []\n",
    "for row in full_dataset:\n",
    "    if row[\"price\"] == \"$\":\n",
    "        lower_price.append(row[\"rating\"])\n",
    "    else:\n",
    "        higher_price.append(row[\"rating\"])\n",
    "        \n",
    "fig, ax = plt.subplots()\n",
    "\n",
    "ax.hist([higher_price, lower_price], label=[\"higher price\", \"lower price\"], density=True)\n",
    "\n",
    "ax.legend();"
   ]
  },
  {
   "cell_type": "markdown",
   "metadata": {
    "id": "6CufE0BzM4ud"
   },
   "source": [
    "Is a higher price associated with a higher rating? (No need for any additional math/statistics, just interpret what you see in the plot.)"
   ]
  },
  {
   "cell_type": "code",
   "execution_count": 18,
   "metadata": {
    "id": "uUeQkh_qM4ud"
   },
   "outputs": [
    {
     "data": {
      "text/plain": [
       "\"\\nWe can see that the distributions are fairly similar, with both skewed towards higher ratings. \\nHowever, there is a slight shift towards higher ratings for businesses with higher prices compared to those with lower prices. \\nThis suggests that, on average, businesses with higher prices may have slightly better ratings than those with lower prices. \\nHowever, it's important to note that this is just a general trend and there are likely many exceptions to this rule.\\n\""
      ]
     },
     "execution_count": 18,
     "metadata": {},
     "output_type": "execute_result"
    }
   ],
   "source": [
    "# Replace None with appropriate text\n",
    "\"\"\"\n",
    "We can see that the distributions are fairly similar, with both skewed towards higher ratings. \n",
    "However, there is a slight shift towards higher ratings for businesses with higher prices compared to those with lower prices. \n",
    "This suggests that, on average, businesses with higher prices may have slightly better ratings than those with lower prices. \n",
    "However, it's important to note that this is just a general trend and there are likely many exceptions to this rule.\n",
    "\"\"\""
   ]
  },
  {
   "cell_type": "markdown",
   "metadata": {
    "id": "f0gPQa4UM4ud"
   },
   "source": [
    "Finally, let's look at ratings vs. review counts:"
   ]
  },
  {
   "cell_type": "code",
   "execution_count": 19,
   "metadata": {
    "colab": {
     "base_uri": "https://localhost:8080/",
     "height": 437
    },
    "id": "fDs8C8KRM4ud",
    "outputId": "8b0f8b81-49c3-4050-d424-c7cf2c458190"
   },
   "outputs": [
    {
     "data": {
      "image/png": "[encoded data removed]",
      "text/plain": [
       "<Figure size 1152x360 with 1 Axes>"
      ]
     },
     "metadata": {
      "needs_background": "light"
     },
     "output_type": "display_data"
    }
   ],
   "source": [
    "# Run this cell without changes\n",
    "fig, ax = plt.subplots(figsize=(16,5))\n",
    "\n",
    "ax.scatter(all_review_counts, all_ratings, alpha=0.2)\n",
    "ax.set_xlabel(\"Number of Reviews\")\n",
    "ax.set_ylabel(\"Rating\")\n",
    "# \"zoom in\" to a subset of review counts\n",
    "ax.set_xlim(left=0, right=1000);"
   ]
  },
  {
   "cell_type": "markdown",
   "metadata": {
    "id": "g7JOlZchM4ue"
   },
   "source": [
    "Is a higher number of reviews associated with a higher rating?"
   ]
  },
  {
   "cell_type": "code",
   "execution_count": 20,
   "metadata": {
    "id": "K8o_-aZ2M4ue"
   },
   "outputs": [
    {
     "data": {
      "text/plain": [
       "'\\nThis scatter plot shows the relationship between the number of reviews and the rating of businesses. \\nEach dot represents a business, with the x-axis showing the number of reviews and the y-axis showing the rating. \\nWe can see that there is a general trend that businesses with higher ratings tend to have more reviews. \\nThere are also a few outliers with low ratings despite having a high number of reviews, \\nand some outliers with high ratings despite having a low number of reviews. \\nHowever, the scatter plot is difficult to interpret because there are too many data points.\\n'"
      ]
     },
     "execution_count": 20,
     "metadata": {},
     "output_type": "execute_result"
    }
   ],
   "source": [
    "# Replace None with appropriate text\n",
    "\"\"\"\n",
    "This scatter plot shows the relationship between the number of reviews and the rating of businesses. \n",
    "Each dot represents a business, with the x-axis showing the number of reviews and the y-axis showing the rating. \n",
    "We can see that there is a general trend that businesses with higher ratings tend to have more reviews. \n",
    "There are also a few outliers with low ratings despite having a high number of reviews, \n",
    "and some outliers with high ratings despite having a low number of reviews. \n",
    "However, the scatter plot is difficult to interpret because there are too many data points.\n",
    "\"\"\""
   ]
  },
  {
   "cell_type": "markdown",
   "metadata": {
    "id": "W87Nga9EM4ue"
   },
   "source": [
    "## 4. Create a Folium Map\n",
    "\n",
    "Make a map using Folium of the businesses you retrieved. Be sure to also add popups to the markers giving some basic information such as name, rating and price.\n",
    "\n",
    "You can center the map around the latitude and longitude of the first item in `full_dataset`."
   ]
  },
  {
   "cell_type": "code",
   "execution_count": 21,
   "metadata": {
    "colab": {
     "base_uri": "https://localhost:8080/",
     "height": 763
    },
    "id": "2gNoZynsM4ue",
    "outputId": "572afbfb-a3f5-449b-d46b-750e7ae7adc6"
   },
   "outputs": [
    {
     "data": {
      "text/html": [
       "<div style=\"width:100%;\"><div style=\"position:relative;width:100%;height:0;padding-bottom:60%;\"><span style=\"color:#565656\">Make this Notebook Trusted to load map: File -> Trust Notebook</span><iframe src=\"about:blank\" style=\"position:absolute;width:100%;height:100%;left:0;top:0;border:none !important;\" data-html=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 onload=\"this.contentDocument.open();this.contentDocument.write(atob(this.getAttribute('data-html')));this.contentDocument.close();\" allowfullscreen webkitallowfullscreen mozallowfullscreen></iframe></div></div>"
      ],
      "text/plain": [
       "<folium.folium.Map at 0x1ce1d5ed4c0>"
      ]
     },
     "execution_count": 21,
     "metadata": {},
     "output_type": "execute_result"
    }
   ],
   "source": [
    "# Import the library\n",
    "import folium\n",
    "\n",
    "# Set up center latitude and longitude\n",
    "center_lat = 37.7749\n",
    "center_long = -122.4194\n",
    "\n",
    "# Initialize map with center lat and long\n",
    "yelp_map = folium.Map(location=[center_lat, center_long], zoom_start=13)\n",
    "\n",
    "# Adjust this limit to see more or fewer businesses\n",
    "limit = 100\n",
    "\n",
    "for business in full_dataset[:limit]:\n",
    "    # Extract information about business\n",
    "    lat = business['latitude']\n",
    "    long = business['longitude']\n",
    "    name = business['name']\n",
    "    rating = business['rating']\n",
    "    price = business['price']\n",
    "    details = \"{}\\nPrice: {} Rating:{}\".format(name, price, rating)\n",
    "\n",
    "    # Create popup with relevant details\n",
    "    popup = folium.Popup(details, parse_html=True)\n",
    "\n",
    "    # Create marker with relevant lat/long and popup\n",
    "    marker = folium.Marker(location=[lat, long], popup=popup)\n",
    "\n",
    "    marker.add_to(yelp_map)\n",
    "\n",
    "yelp_map\n"
   ]
  },
  {
   "cell_type": "markdown",
   "metadata": {
    "id": "nttelueNM4uf"
   },
   "source": [
    "## Summary\n",
    "\n",
    "Nice work! In this lab, you've made multiple API calls to Yelp in order to paginate through a results set, performing some basic exploratory analysis and then creating a nice interactive map to display the results using Folium! Well done!"
   ]
  }
 ],
 "metadata": {
  "colab": {
   "provenance": []
  },
  "kernelspec": {
   "display_name": "Python 3",
   "language": "python",
   "name": "python3"
  },
  "language_info": {
   "codemirror_mode": {
    "name": "ipython",
    "version": 3
   },
   "file_extension": ".py",
   "mimetype": "text/x-python",
   "name": "python",
   "nbconvert_exporter": "python",
   "pygments_lexer": "ipython3",
   "version": "3.8.5"
  },
  "toc": {
   "base_numbering": 1,
   "nav_menu": {},
   "number_sections": true,
   "sideBar": true,
   "skip_h1_title": false,
   "title_cell": "Table of Contents",
   "title_sidebar": "Contents",
   "toc_cell": false,
   "toc_position": {},
   "toc_section_display": true,
   "toc_window_display": false
  }
 },
 "nbformat": 4,
 "nbformat_minor": 1
}
